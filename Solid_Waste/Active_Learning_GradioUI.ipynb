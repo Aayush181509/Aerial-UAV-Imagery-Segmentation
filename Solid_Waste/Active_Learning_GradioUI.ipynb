{
  "cells": [
    {
      "cell_type": "code",
      "source": [
        "!pip install gradio"
      ],
      "metadata": {
        "id": "Azace0sInHlK"
      },
      "execution_count": null,
      "outputs": []
    },
    {
      "cell_type": "code",
      "execution_count": 147,
      "metadata": {
        "id": "7d9P5DvG-a4b"
      },
      "outputs": [],
      "source": [
        "import gradio as gr\n",
        "from PIL import Image\n",
        "import cv2\n",
        "import shutil\n",
        "import os"
      ]
    },
    {
      "cell_type": "code",
      "source": [
        "!unzip data.zip\n",
        "!rm -rf data.zip"
      ],
      "metadata": {
        "id": "egFDaOncnDkp"
      },
      "execution_count": null,
      "outputs": []
    },
    {
      "cell_type": "code",
      "source": [
        "images = []\n",
        "for image in os.listdir('/content/data'):\n",
        "  if image.endswith('.tif'):\n",
        "    images.append(image)"
      ],
      "metadata": {
        "id": "BoFhknb3nK6M"
      },
      "execution_count": 148,
      "outputs": []
    },
    {
      "cell_type": "code",
      "source": [
        "print(images)"
      ],
      "metadata": {
        "colab": {
          "base_uri": "https://localhost:8080/"
        },
        "id": "dx6g1MxynZDM",
        "outputId": "646a6c6d-adb0-4c34-cd05-1a834ce54b60"
      },
      "execution_count": 149,
      "outputs": [
        {
          "output_type": "stream",
          "name": "stdout",
          "text": [
            "['M-33-7-A-d-2-3.tifpatch_05.tif', 'M-33-7-A-d-2-3.tifpatch_010.tif', 'M-33-7-A-d-2-3.tifpatch_06.tif', 'M-33-7-A-d-2-3.tifpatch_011.tif', 'M-33-7-A-d-2-3.tifpatch_09.tif', 'M-33-7-A-d-2-3.tifpatch_02.tif', 'M-33-7-A-d-2-3.tifpatch_015.tif', 'M-33-7-A-d-2-3.tifpatch_07.tif', 'M-33-7-A-d-2-3.tifpatch_013.tif', 'M-33-7-A-d-2-3.tifpatch_12.tif', 'M-33-7-A-d-2-3.tifpatch_08.tif']\n"
          ]
        }
      ]
    },
    {
      "cell_type": "code",
      "source": [
        "count = 0\n",
        "def yes():\n",
        "  global count\n",
        "  if count>=2:\n",
        "    os.makedirs('/content/output_images', exist_ok=True)\n",
        "    shutil.copy(f'/content/data/{images[count-2]}', f\"/content/output_images/{images[count-2]}\")\n",
        "    shutil.copy(f'/content/data/{images[count-1]}', f\"/content/output_images/{images[count-1]}\")\n",
        "  count = count+2 % len(images)\n",
        "  img1 = cv2.imread(f'/content/data/{images[count-2]}')\n",
        "  img2 = cv2.imread(f'/content/data/{images[count-1]}')\n",
        "  img_rgb1 = cv2.cvtColor(img1, cv2.COLOR_BGR2RGB)\n",
        "  img_rgb2 = cv2.cvtColor(img2, cv2.COLOR_BGR2RGB)\n",
        "  pil_img1 = Image.fromarray(img_rgb1)\n",
        "  pil_img2 = Image.fromarray(img_rgb2)\n",
        "  return pil_img1,pil_img2\n",
        "  # return f'/content/data/{images[count]}'\n",
        "\n",
        "def no():\n",
        "  global count\n",
        "  img1 = cv2.imread(f'/content/data/{images[count-2]}')\n",
        "  img2 = cv2.imread(f'/content/data/{images[count-1]}')\n",
        "  count = count+2 % len(images)\n",
        "  img_rgb1 = cv2.cvtColor(img1, cv2.COLOR_BGR2RGB)\n",
        "  img_rgb2 = cv2.cvtColor(img2, cv2.COLOR_BGR2RGB)\n",
        "  pil_img1 = Image.fromarray(img_rgb1)\n",
        "  pil_img2 = Image.fromarray(img_rgb2)\n",
        "  return pil_img1,pil_img2\n",
        "  # return f'/content/data/{images[count]}'\n",
        "\n",
        "with gr.Blocks() as demo:\n",
        "    # name = gr.Textbox(label=\"Name\")\n",
        "    with gr.Row():\n",
        "      output1 = gr.Image(label=\"Image\",type=\"pil\",height=300,width=300)\n",
        "      output2 = gr.Image(label=\"Image\",type=\"pil\",height=300,width=300)\n",
        "    yes_btn = gr.Button(\"Yes\")\n",
        "    no_btn = gr.Button(\"No\")\n",
        "    yes_btn.click(fn=yes, outputs=[output1,output2], api_name=\"yes\")\n",
        "    no_btn.click(fn=no, outputs=[output1,output2], api_name=\"no\")"
      ],
      "metadata": {
        "id": "zerqo6LOAGyZ"
      },
      "execution_count": 151,
      "outputs": []
    },
    {
      "cell_type": "code",
      "source": [
        "demo.launch()"
      ],
      "metadata": {
        "colab": {
          "base_uri": "https://localhost:8080/",
          "height": 646
        },
        "id": "y_TZKmtOn1_r",
        "outputId": "09426934-ec7d-4f2d-cba0-5eb03cd62845"
      },
      "execution_count": 152,
      "outputs": [
        {
          "output_type": "stream",
          "name": "stdout",
          "text": [
            "Setting queue=True in a Colab notebook requires sharing enabled. Setting `share=True` (you can turn this off by setting `share=False` in `launch()` explicitly).\n",
            "\n",
            "Colab notebook detected. To show errors in colab notebook, set debug=True in launch()\n",
            "Running on public URL: https://5234772a00ea1a6564.gradio.live\n",
            "\n",
            "This share link expires in 72 hours. For free permanent hosting and GPU upgrades, run `gradio deploy` from Terminal to deploy to Spaces (https://huggingface.co/spaces)\n"
          ]
        },
        {
          "output_type": "display_data",
          "data": {
            "text/plain": [
              "<IPython.core.display.HTML object>"
            ],
            "text/html": [
              "<div><iframe src=\"https://5234772a00ea1a6564.gradio.live\" width=\"100%\" height=\"500\" allow=\"autoplay; camera; microphone; clipboard-read; clipboard-write;\" frameborder=\"0\" allowfullscreen></iframe></div>"
            ]
          },
          "metadata": {}
        },
        {
          "output_type": "execute_result",
          "data": {
            "text/plain": []
          },
          "metadata": {},
          "execution_count": 152
        }
      ]
    },
    {
      "cell_type": "code",
      "source": [
        "demo.close()"
      ],
      "metadata": {
        "colab": {
          "base_uri": "https://localhost:8080/"
        },
        "id": "SzkARP2ZAI0y",
        "outputId": "cb83a939-7c36-4906-9ff6-7e7f67074723"
      },
      "execution_count": 146,
      "outputs": [
        {
          "output_type": "stream",
          "name": "stdout",
          "text": [
            "Closing server running on port: 7874\n"
          ]
        }
      ]
    }
  ],
  "metadata": {
    "colab": {
      "provenance": []
    },
    "kernelspec": {
      "display_name": "Python 3",
      "name": "python3"
    },
    "language_info": {
      "name": "python"
    }
  },
  "nbformat": 4,
  "nbformat_minor": 0
}